{
 "cells": [
  {
   "cell_type": "code",
   "execution_count": 1,
   "id": "8bc6ffd7",
   "metadata": {},
   "outputs": [],
   "source": [
    "import pandas as pd \n",
    "import matplotlib.pyplot as plt\n",
    "import numpy as np"
   ]
  },
  {
   "cell_type": "code",
   "execution_count": 2,
   "id": "39f9ea2c",
   "metadata": {},
   "outputs": [],
   "source": [
    "df_resultados = pd.read_csv('RESULTADOS_2024.csv', sep = ';', encoding = 'latin1')\n"
   ]
  },
  {
   "cell_type": "code",
   "execution_count": 3,
   "id": "22e3515d",
   "metadata": {},
   "outputs": [
    {
     "name": "stdout",
     "output_type": "stream",
     "text": [
      "<class 'pandas.core.frame.DataFrame'>\n",
      "RangeIndex: 4332944 entries, 0 to 4332943\n",
      "Data columns (total 42 columns):\n",
      " #   Column                  Dtype  \n",
      "---  ------                  -----  \n",
      " 0   NU_SEQUENCIAL           int64  \n",
      " 1   NU_ANO                  int64  \n",
      " 2   CO_ESCOLA               float64\n",
      " 3   CO_MUNICIPIO_ESC        float64\n",
      " 4   NO_MUNICIPIO_ESC        object \n",
      " 5   CO_UF_ESC               float64\n",
      " 6   SG_UF_ESC               object \n",
      " 7   TP_DEPENDENCIA_ADM_ESC  float64\n",
      " 8   TP_LOCALIZACAO_ESC      float64\n",
      " 9   TP_SIT_FUNC_ESC         float64\n",
      " 10  CO_MUNICIPIO_PROVA      int64  \n",
      " 11  NO_MUNICIPIO_PROVA      object \n",
      " 12  CO_UF_PROVA             int64  \n",
      " 13  SG_UF_PROVA             object \n",
      " 14  TP_PRESENCA_CN          int64  \n",
      " 15  TP_PRESENCA_CH          int64  \n",
      " 16  TP_PRESENCA_LC          int64  \n",
      " 17  TP_PRESENCA_MT          int64  \n",
      " 18  CO_PROVA_CN             float64\n",
      " 19  CO_PROVA_CH             float64\n",
      " 20  CO_PROVA_LC             float64\n",
      " 21  CO_PROVA_MT             float64\n",
      " 22  NU_NOTA_CN              float64\n",
      " 23  NU_NOTA_CH              float64\n",
      " 24  NU_NOTA_LC              float64\n",
      " 25  NU_NOTA_MT              float64\n",
      " 26  TX_RESPOSTAS_CN         object \n",
      " 27  TX_RESPOSTAS_CH         object \n",
      " 28  TX_RESPOSTAS_LC         object \n",
      " 29  TX_RESPOSTAS_MT         object \n",
      " 30  TP_LINGUA               int64  \n",
      " 31  TX_GABARITO_CN          object \n",
      " 32  TX_GABARITO_CH          object \n",
      " 33  TX_GABARITO_LC          object \n",
      " 34  TX_GABARITO_MT          object \n",
      " 35  TP_STATUS_REDACAO       float64\n",
      " 36  NU_NOTA_COMP1           float64\n",
      " 37  NU_NOTA_COMP2           float64\n",
      " 38  NU_NOTA_COMP3           float64\n",
      " 39  NU_NOTA_COMP4           float64\n",
      " 40  NU_NOTA_COMP5           float64\n",
      " 41  NU_NOTA_REDACAO         float64\n",
      "dtypes: float64(21), int64(9), object(12)\n",
      "memory usage: 1.4+ GB\n"
     ]
    }
   ],
   "source": [
    "# filtro para apenas no estado do Rio de Janeiro\n",
    "df_resultados_rj = df_resultados.loc[df_resultados['SG_UF_ESC'] == 'RJ']\n",
    "df_resultados.info()"
   ]
  },
  {
   "cell_type": "code",
   "execution_count": 4,
   "id": "133d151f",
   "metadata": {},
   "outputs": [
    {
     "name": "stdout",
     "output_type": "stream",
     "text": [
      "<class 'pandas.core.frame.DataFrame'>\n",
      "Index: 97876 entries, 188 to 4332942\n",
      "Data columns (total 28 columns):\n",
      " #   Column                  Non-Null Count  Dtype  \n",
      "---  ------                  --------------  -----  \n",
      " 0   NU_SEQUENCIAL           97876 non-null  int64  \n",
      " 1   CO_ESCOLA               97876 non-null  float64\n",
      " 2   NO_MUNICIPIO_ESC        97876 non-null  object \n",
      " 3   SG_UF_ESC               97876 non-null  object \n",
      " 4   TP_DEPENDENCIA_ADM_ESC  97876 non-null  float64\n",
      " 5   TP_LOCALIZACAO_ESC      97876 non-null  float64\n",
      " 6   TP_SIT_FUNC_ESC         97876 non-null  float64\n",
      " 7   CO_MUNICIPIO_PROVA      97876 non-null  int64  \n",
      " 8   NO_MUNICIPIO_PROVA      97876 non-null  object \n",
      " 9   CO_UF_PROVA             97876 non-null  int64  \n",
      " 10  SG_UF_PROVA             97876 non-null  object \n",
      " 11  TP_PRESENCA_CN          97876 non-null  int64  \n",
      " 12  TP_PRESENCA_CH          97876 non-null  int64  \n",
      " 13  TP_PRESENCA_LC          97876 non-null  int64  \n",
      " 14  TP_PRESENCA_MT          97876 non-null  int64  \n",
      " 15  CO_PROVA_MT             77584 non-null  float64\n",
      " 16  NU_NOTA_CN              77584 non-null  float64\n",
      " 17  NU_NOTA_CH              80881 non-null  float64\n",
      " 18  NU_NOTA_LC              80881 non-null  float64\n",
      " 19  NU_NOTA_MT              77584 non-null  float64\n",
      " 20  TP_LINGUA               97876 non-null  int64  \n",
      " 21  TP_STATUS_REDACAO       80881 non-null  float64\n",
      " 22  NU_NOTA_COMP1           80881 non-null  float64\n",
      " 23  NU_NOTA_COMP2           80881 non-null  float64\n",
      " 24  NU_NOTA_COMP3           80881 non-null  float64\n",
      " 25  NU_NOTA_COMP4           80881 non-null  float64\n",
      " 26  NU_NOTA_COMP5           80881 non-null  float64\n",
      " 27  NU_NOTA_REDACAO         80881 non-null  float64\n",
      "dtypes: float64(16), int64(8), object(4)\n",
      "memory usage: 21.7+ MB\n"
     ]
    }
   ],
   "source": [
    "# eliminando as colunas dos gabaritos e respostas dos participantes\n",
    "df_resultados_rj = df_resultados_rj.drop(columns = ['TX_RESPOSTAS_CN','TX_RESPOSTAS_CH','TX_RESPOSTAS_LC','TX_RESPOSTAS_MT','TX_GABARITO_CN','TX_GABARITO_CH','TX_GABARITO_LC','TX_GABARITO_MT'], axis = 1)\n",
    "# eliminando as colunas dos codigos dos tipos de provas\n",
    "df_resultados_rj = df_resultados_rj.drop(columns = ['CO_PROVA_CN', 'CO_PROVA_CH', 'CO_PROVA_LC',], axis = 1)\n",
    "# eliminando as colunas com os codigos do municipio da escola e codigo do estado da onde foi aplicado a prova\n",
    "df_resultados_rj = df_resultados_rj.drop(columns = ['CO_MUNICIPIO_ESC', 'CO_UF_ESC'], axis = 1)\n",
    "# eliminando a coluna do ano de quando foi aplicado a prova\n",
    "df_resultados_rj = df_resultados_rj.drop(columns = ['NU_ANO'], axis = 1)\n",
    "df_resultados_rj.info()"
   ]
  },
  {
   "cell_type": "code",
   "execution_count": null,
   "id": "2b1af9d1",
   "metadata": {},
   "outputs": [
    {
     "data": {
      "text/plain": [
       "239109     832.76\n",
       "3456351    830.74\n",
       "2006814    823.74\n",
       "898009     823.50\n",
       "234540     823.12\n",
       "            ...  \n",
       "4331766       NaN\n",
       "4332430       NaN\n",
       "4332511       NaN\n",
       "4332846       NaN\n",
       "4332942       NaN\n",
       "Name: NOTA_MEDIA, Length: 97876, dtype: float64"
      ]
     },
     "execution_count": 15,
     "metadata": {},
     "output_type": "execute_result"
    }
   ],
   "source": [
    "# Criando uma COLUNA com a nota media total do enem de cada inscrito\n",
    "df_resultados_rj['NOTA_MEDIA'] = df_resultados_rj[['NU_NOTA_CN','NU_NOTA_CH', 'NU_NOTA_LC', 'NU_NOTA_MT', 'NU_NOTA_REDACAO']].mean(axis = 1)\n",
    "df_resultados_rj['NOTA_MEDIA'].sort_values(ascending= False)"
   ]
  },
  {
   "cell_type": "code",
   "execution_count": 54,
   "id": "cd5165c9",
   "metadata": {},
   "outputs": [
    {
     "name": "stdout",
     "output_type": "stream",
     "text": [
      "Média: 543.23\n",
      "Mediana: 540.48\n",
      "Distancia: 0.51% \n",
      "Quartis\n",
      "Q1: 478.40\n",
      "Q2: 540.48\n",
      "Q3: 612.74\n",
      "Valores de corte:\n",
      "Limite superior: 814.24\n",
      "Limite inferior: 276.90\n"
     ]
    }
   ],
   "source": [
    "# dados da media das notas totais\n",
    "\n",
    "# Calculo das medidas de tendencias centrais\n",
    "def tendencia_central (a):\n",
    "    # formula 'nanmean' e 'nanmedian' para ignorar os valores NaN e fazer os calculos\n",
    "    media_notas= np.nanmean(a)\n",
    "    mediana_notas= np.nanmedian(a)\n",
    "    distancia_notas= ((media_notas - mediana_notas)/mediana_notas)*100\n",
    "    print(f\"Média: {media_notas:.2f}\\nMediana: {mediana_notas:.2f}\\nDistancia: {distancia_notas:.2f}% \")\n",
    "    return\n",
    "\n",
    "def outliers (b):\n",
    "    # determinando os quartis, usando a formula 'nanpercertile' para ignorar os valores NaN e fazer os calculos\n",
    "    q1, q2, q3= np.nanpercentile(b , [25, 50, 75])\n",
    "    iqr = q3 - q1\n",
    "    limite_superior_notas = q3 + (1.5 * iqr)\n",
    "    limite_inferior_notas = q1 - (1.5 * iqr)           \n",
    "    print(f\"Quartis\\nQ1: {q1:.2f}\\nQ2: {q2:.2f}\\nQ3: {q3:.2f}\\nValores de corte:\\nLimite superior: {limite_superior_notas:.2f}\\nLimite inferior: {limite_inferior_notas:.2f}\")\n",
    "    return limite_inferior_notas, limite_superior_notas\n",
    "\n",
    "tendencia_central(df_resultados_rj['NOTA_MEDIA'])\n",
    "limite_inferior_notas, limite_superior_notas = outliers (np.array(df_resultados_rj['NOTA_MEDIA']))"
   ]
  },
  {
   "cell_type": "code",
   "execution_count": 52,
   "id": "22c1c166",
   "metadata": {},
   "outputs": [
    {
     "data": {
      "text/html": [
       "<div>\n",
       "<style scoped>\n",
       "    .dataframe tbody tr th:only-of-type {\n",
       "        vertical-align: middle;\n",
       "    }\n",
       "\n",
       "    .dataframe tbody tr th {\n",
       "        vertical-align: top;\n",
       "    }\n",
       "\n",
       "    .dataframe thead th {\n",
       "        text-align: right;\n",
       "    }\n",
       "</style>\n",
       "<table border=\"1\" class=\"dataframe\">\n",
       "  <thead>\n",
       "    <tr style=\"text-align: right;\">\n",
       "      <th></th>\n",
       "      <th>NU_SEQUENCIAL</th>\n",
       "      <th>NOTA_MEDIA</th>\n",
       "    </tr>\n",
       "  </thead>\n",
       "  <tbody>\n",
       "    <tr>\n",
       "      <th>239109</th>\n",
       "      <td>2063342</td>\n",
       "      <td>832.76</td>\n",
       "    </tr>\n",
       "    <tr>\n",
       "      <th>3456351</th>\n",
       "      <td>2216069</td>\n",
       "      <td>830.74</td>\n",
       "    </tr>\n",
       "    <tr>\n",
       "      <th>2006814</th>\n",
       "      <td>464974</td>\n",
       "      <td>823.74</td>\n",
       "    </tr>\n",
       "    <tr>\n",
       "      <th>898009</th>\n",
       "      <td>1944168</td>\n",
       "      <td>823.50</td>\n",
       "    </tr>\n",
       "    <tr>\n",
       "      <th>234540</th>\n",
       "      <td>1984106</td>\n",
       "      <td>823.12</td>\n",
       "    </tr>\n",
       "  </tbody>\n",
       "</table>\n",
       "</div>"
      ],
      "text/plain": [
       "         NU_SEQUENCIAL  NOTA_MEDIA\n",
       "239109         2063342      832.76\n",
       "3456351        2216069      830.74\n",
       "2006814         464974      823.74\n",
       "898009         1944168      823.50\n",
       "234540         1984106      823.12"
      ]
     },
     "execution_count": 52,
     "metadata": {},
     "output_type": "execute_result"
    }
   ],
   "source": [
    "#filtrando (pelo corte do quartil) os outliers +75\n",
    "maior_25_enem = df_resultados_rj.loc[df_resultados_rj['NOTA_MEDIA'] >= limite_superior_notas]\n",
    "#exibindo apenas as colunas especificas para analise\n",
    "maior_25_enem = maior_25_enem[['NU_SEQUENCIAL', 'NOTA_MEDIA']].sort_values(by='NOTA_MEDIA', ascending=False).head()\n",
    "maior_25_enem"
   ]
  },
  {
   "cell_type": "code",
   "execution_count": 51,
   "id": "6cbf0791",
   "metadata": {},
   "outputs": [
    {
     "data": {
      "text/html": [
       "<div>\n",
       "<style scoped>\n",
       "    .dataframe tbody tr th:only-of-type {\n",
       "        vertical-align: middle;\n",
       "    }\n",
       "\n",
       "    .dataframe tbody tr th {\n",
       "        vertical-align: top;\n",
       "    }\n",
       "\n",
       "    .dataframe thead th {\n",
       "        text-align: right;\n",
       "    }\n",
       "</style>\n",
       "<table border=\"1\" class=\"dataframe\">\n",
       "  <thead>\n",
       "    <tr style=\"text-align: right;\">\n",
       "      <th></th>\n",
       "      <th>NU_SEQUENCIAL</th>\n",
       "      <th>NOTA_MEDIA</th>\n",
       "    </tr>\n",
       "  </thead>\n",
       "  <tbody>\n",
       "    <tr>\n",
       "      <th>2435588</th>\n",
       "      <td>2832646</td>\n",
       "      <td>105.633333</td>\n",
       "    </tr>\n",
       "    <tr>\n",
       "      <th>3118400</th>\n",
       "      <td>1679793</td>\n",
       "      <td>104.600000</td>\n",
       "    </tr>\n",
       "    <tr>\n",
       "      <th>2084639</th>\n",
       "      <td>3391920</td>\n",
       "      <td>101.300000</td>\n",
       "    </tr>\n",
       "    <tr>\n",
       "      <th>1177971</th>\n",
       "      <td>3085603</td>\n",
       "      <td>101.300000</td>\n",
       "    </tr>\n",
       "    <tr>\n",
       "      <th>1110219</th>\n",
       "      <td>4167051</td>\n",
       "      <td>68.440000</td>\n",
       "    </tr>\n",
       "  </tbody>\n",
       "</table>\n",
       "</div>"
      ],
      "text/plain": [
       "         NU_SEQUENCIAL  NOTA_MEDIA\n",
       "2435588        2832646  105.633333\n",
       "3118400        1679793  104.600000\n",
       "2084639        3391920  101.300000\n",
       "1177971        3085603  101.300000\n",
       "1110219        4167051   68.440000"
      ]
     },
     "execution_count": 51,
     "metadata": {},
     "output_type": "execute_result"
    }
   ],
   "source": [
    "#filtrando (pelo corte do quartil) os outliers -25\n",
    "menor_25_enem = df_resultados_rj.loc[df_resultados_rj['NOTA_MEDIA'] <= limite_inferior_notas]\n",
    "# retirando todas as provas zeradas\n",
    "menor_25_enem = menor_25_enem[menor_25_enem['NOTA_MEDIA'] != 0]\n",
    "# exibindo apenas as colunas especificas para analise\n",
    "menor_25_enem = menor_25_enem[['NU_SEQUENCIAL', 'NOTA_MEDIA']].sort_values(by='NOTA_MEDIA', ascending=False).tail(5)\n",
    "menor_25_enem"
   ]
  },
  {
   "cell_type": "code",
   "execution_count": 55,
   "id": "22b23a5d",
   "metadata": {},
   "outputs": [
    {
     "name": "stdout",
     "output_type": "stream",
     "text": [
      "Média: 497.99\n",
      "Mediana: 494.10\n",
      "Distancia: 0.79% \n",
      "Quartis\n",
      "Q1: 434.70\n",
      "Q2: 494.10\n",
      "Q3: 555.70\n",
      "Valores de corte:\n",
      "Limite superior: 737.20\n",
      "Limite inferior: 253.20\n"
     ]
    }
   ],
   "source": [
    "# dados das notas de ciencias da natureza\n",
    "\n",
    "tendencia_central(df_resultados_rj['NU_NOTA_CN'])\n",
    "limite_inferior_notas, limite_superior_notas = outliers(np.array(df_resultados_rj['NU_NOTA_CN']))"
   ]
  },
  {
   "cell_type": "code",
   "execution_count": 56,
   "id": "fd430a7e",
   "metadata": {},
   "outputs": [
    {
     "name": "stdout",
     "output_type": "stream",
     "text": [
      "Média: 517.32\n",
      "Mediana: 523.00\n",
      "Distancia: -1.09% \n",
      "Quartis\n",
      "Q1: 454.10\n",
      "Q2: 523.00\n",
      "Q3: 581.40\n",
      "Valores de corte:\n",
      "Limite superior: 772.35\n",
      "Limite inferior: 263.15\n"
     ]
    }
   ],
   "source": [
    "# dados das notas de ciencias humanas\n",
    "\n",
    "tendencia_central(df_resultados_rj['NU_NOTA_CH'])\n",
    "limite_inferior_notas, limite_superior_notas = outliers(np.array(df_resultados_rj['NU_NOTA_CH']))"
   ]
  },
  {
   "cell_type": "code",
   "execution_count": 57,
   "id": "609faeb8",
   "metadata": {},
   "outputs": [
    {
     "name": "stdout",
     "output_type": "stream",
     "text": [
      "Média: 530.29\n",
      "Mediana: 536.80\n",
      "Distancia: -1.21% \n",
      "Quartis\n",
      "Q1: 492.60\n",
      "Q2: 536.80\n",
      "Q3: 576.50\n",
      "Valores de corte:\n",
      "Limite superior: 702.35\n",
      "Limite inferior: 366.75\n"
     ]
    }
   ],
   "source": [
    "# dados das notas de linguagens e codigos\n",
    "\n",
    "tendencia_central(df_resultados_rj['NU_NOTA_LC'])\n",
    "limite_inferior_notas, limite_superior_notas = outliers(np.array(df_resultados_rj['NU_NOTA_LC']))"
   ]
  },
  {
   "cell_type": "code",
   "execution_count": 59,
   "id": "b4da5849",
   "metadata": {},
   "outputs": [
    {
     "name": "stdout",
     "output_type": "stream",
     "text": [
      "Média: 542.95\n",
      "Mediana: 549.70\n",
      "Distancia: -1.23% \n",
      "Quartis\n",
      "Q1: 507.50\n",
      "Q2: 549.70\n",
      "Q3: 587.20\n",
      "Valores de corte:\n",
      "Limite superior: 706.75\n",
      "Limite inferior: 387.95\n"
     ]
    }
   ],
   "source": [
    "# dados das notas de linguagens e codigos - ingles (0)\n",
    "\n",
    "# Agrupando todas as notas de ingles\n",
    "df_notas_ing = df_resultados_rj.loc[df_resultados_rj['TP_LINGUA'] == 0]\n",
    "\n",
    "tendencia_central(df_notas_ing['NU_NOTA_LC'])\n",
    "limite_inferior_notas, limite_superior_notas = outliers(np.array(df_notas_ing['NU_NOTA_LC']))\n"
   ]
  },
  {
   "cell_type": "code",
   "execution_count": 60,
   "id": "b14763f9",
   "metadata": {},
   "outputs": [
    {
     "name": "stdout",
     "output_type": "stream",
     "text": [
      "Média: 500.37\n",
      "Mediana: 508.20\n",
      "Distancia: -1.54% \n",
      "Quartis\n",
      "Q1: 463.80\n",
      "Q2: 508.20\n",
      "Q3: 544.40\n",
      "Valores de corte:\n",
      "Limite superior: 665.30\n",
      "Limite inferior: 342.90\n"
     ]
    }
   ],
   "source": [
    "# dados das notas de linguagens e codigos - espanhol (1)\n",
    "\n",
    "# Agrupando todas as notas de espanhol\n",
    "df_notas_esp = df_resultados_rj.loc[df_resultados_rj['TP_LINGUA'] == 1]\n",
    "\n",
    "tendencia_central(df_notas_esp['NU_NOTA_LC'])\n",
    "limite_inferior_notas, limite_superior_notas = outliers(np.array(df_notas_esp['NU_NOTA_LC']))"
   ]
  },
  {
   "cell_type": "code",
   "execution_count": 62,
   "id": "81213ffa",
   "metadata": {},
   "outputs": [
    {
     "name": "stdout",
     "output_type": "stream",
     "text": [
      "Média: 538.11\n",
      "Mediana: 513.80\n",
      "Distancia: 4.73% \n",
      "Quartis\n",
      "Q1: 437.00\n",
      "Q2: 513.80\n",
      "Q3: 626.82\n",
      "Valores de corte:\n",
      "Limite superior: 911.56\n",
      "Limite inferior: 152.26\n"
     ]
    }
   ],
   "source": [
    "# dados das notas de matematica\n",
    "\n",
    "tendencia_central(df_resultados_rj['NU_NOTA_MT'])\n",
    "limite_inferior_notas, limite_superior_notas = outliers(np.array(df_resultados_rj['NU_NOTA_MT']))"
   ]
  },
  {
   "cell_type": "code",
   "execution_count": 63,
   "id": "90dd2820",
   "metadata": {},
   "outputs": [
    {
     "name": "stdout",
     "output_type": "stream",
     "text": [
      "Média: 639.94\n",
      "Mediana: 660.00\n",
      "Distancia: -3.04% \n",
      "Quartis\n",
      "Q1: 540.00\n",
      "Q2: 660.00\n",
      "Q3: 800.00\n",
      "Valores de corte:\n",
      "Limite superior: 1190.00\n",
      "Limite inferior: 150.00\n"
     ]
    }
   ],
   "source": [
    "# dados das notas da redação\n",
    "\n",
    "tendencia_central(df_resultados_rj['NU_NOTA_REDACAO'])\n",
    "limite_inferior_notas, limite_superior_notas = outliers(np.array(df_resultados_rj['NU_NOTA_REDACAO']))"
   ]
  },
  {
   "cell_type": "code",
   "execution_count": 64,
   "id": "8f582094",
   "metadata": {},
   "outputs": [
    {
     "name": "stderr",
     "output_type": "stream",
     "text": [
      "C:\\Users\\morat\\AppData\\Local\\Temp\\ipykernel_15196\\1700578644.py:11: MatplotlibDeprecationWarning: The 'labels' parameter of boxplot() has been renamed 'tick_labels' since Matplotlib 3.9; support for the old name will be dropped in 3.11.\n",
      "  plt.boxplot(notas, labels=['Ciencias Humanas', 'Ciencias da Natureza', 'Lingua e Codigos (Total)', 'Lingua e Codigos (Espanhol)', 'Lingua e Codigos (Ingles)','Matemática', 'Redação'], vert = False)\n"
     ]
    },
    {
     "data": {
      "image/png": "[encoded data removed]",
      "text/plain": [
       "<Figure size 1500x500 with 1 Axes>"
      ]
     },
     "metadata": {},
     "output_type": "display_data"
    }
   ],
   "source": [
    "# criando boxplot em comparação para cada um das notas\n",
    "# sintaxe para retirar os NaN das notas para que possamos exibi-las\n",
    "data = df_resultados_rj.dropna(subset=['NU_NOTA_CH', 'NU_NOTA_CN', 'NU_NOTA_LC', 'NU_NOTA_MT', 'NU_NOTA_REDACAO'])\n",
    "data2 = df_notas_esp.dropna(subset= ['NU_NOTA_LC'])\n",
    "data3 = df_notas_ing.dropna(subset= ['NU_NOTA_LC'])\n",
    "#criando uma variavel para alocar para que possamos exibir no boxplot\n",
    "notas = data['NU_NOTA_CH'],data['NU_NOTA_CN'], data['NU_NOTA_LC'], data2 ['NU_NOTA_LC'], data3 ['NU_NOTA_LC'], data['NU_NOTA_MT'], data['NU_NOTA_REDACAO'],\n",
    "#definindo o tamanho do boxplot\n",
    "fig, axs = plt.subplots(figsize=(15, 5))\n",
    "# Creates grouped boxplots\n",
    "plt.boxplot(notas, labels=['Ciencias Humanas', 'Ciencias da Natureza', 'Lingua e Codigos (Total)', 'Lingua e Codigos (Espanhol)', 'Lingua e Codigos (Ingles)','Matemática', 'Redação'], vert = False)\n",
    "plt.title('Notas Boxplots')\n",
    "plt.ylabel('\\nMatérias')\n",
    "plt.xlabel('\\nNotas')\n",
    "plt.grid(True)\n",
    "plt.show()"
   ]
  },
  {
   "cell_type": "code",
   "execution_count": 65,
   "id": "72a20b0a",
   "metadata": {},
   "outputs": [
    {
     "data": {
      "image/png": "[encoded data removed]",
      "text/plain": [
       "<Figure size 1500x500 with 1 Axes>"
      ]
     },
     "metadata": {},
     "output_type": "display_data"
    }
   ],
   "source": [
    "# analise boxplot da nota media por inscrição\n",
    "\n",
    "data4 = df_resultados_rj.dropna(subset=['NOTA_MEDIA'])\n",
    "data4 = data4['NOTA_MEDIA']\n",
    "fig, axs = plt.subplots(figsize=(15, 5))\n",
    "plt.boxplot(data4, vert = False)\n",
    "plt.title('Nota Media - Boxplot')\n",
    "plt.ylabel('Valor')\n",
    "plt.grid(True)\n",
    "plt.show()"
   ]
  },
  {
   "cell_type": "code",
   "execution_count": null,
   "id": "f295dcf3",
   "metadata": {},
   "outputs": [],
   "source": [
    "# transformando o Data Frame tratado para csv (para utilizar no power bi e analisar com  graficos)\n",
    "#df_resultados_rj.to_csv('Dados Provas Enem 2024 - RJ 2.csv', sep=';', index = False)"
   ]
  }
 ],
 "metadata": {
  "kernelspec": {
   "display_name": "Python 3",
   "language": "python",
   "name": "python3"
  },
  "language_info": {
   "codemirror_mode": {
    "name": "ipython",
    "version": 3
   },
   "file_extension": ".py",
   "mimetype": "text/x-python",
   "name": "python",
   "nbconvert_exporter": "python",
   "pygments_lexer": "ipython3",
   "version": "3.11.9"
  }
 },
 "nbformat": 4,
 "nbformat_minor": 5
}
